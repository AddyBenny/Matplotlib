{
 "cells": [
  {
   "cell_type": "markdown",
   "metadata": {},
   "source": [
    "## Observations and Insights \n",
    "\n",
    "* The Analysis shows that Capomulin is a drug regimen that is good for treating tumor growth\n",
    "* Infubinol has a potential outlier among the drug regimen\n",
    "*"
   ]
  },
  {
   "cell_type": "markdown",
   "metadata": {},
   "source": []
  },
  {
   "cell_type": "code",
   "execution_count": 31,
   "metadata": {},
   "outputs": [
    {
     "data": {
      "text/html": [
       "<div>\n",
       "<style scoped>\n",
       "    .dataframe tbody tr th:only-of-type {\n",
       "        vertical-align: middle;\n",
       "    }\n",
       "\n",
       "    .dataframe tbody tr th {\n",
       "        vertical-align: top;\n",
       "    }\n",
       "\n",
       "    .dataframe thead th {\n",
       "        text-align: right;\n",
       "    }\n",
       "</style>\n",
       "<table border=\"1\" class=\"dataframe\">\n",
       "  <thead>\n",
       "    <tr style=\"text-align: right;\">\n",
       "      <th></th>\n",
       "      <th>Mouse ID</th>\n",
       "      <th>Drug Regimen</th>\n",
       "      <th>Sex</th>\n",
       "      <th>Age_months</th>\n",
       "      <th>Weight (g)</th>\n",
       "      <th>Timepoint</th>\n",
       "      <th>Tumor Volume (mm3)</th>\n",
       "      <th>Metastatic Sites</th>\n",
       "    </tr>\n",
       "  </thead>\n",
       "  <tbody>\n",
       "    <tr>\n",
       "      <td>0</td>\n",
       "      <td>k403</td>\n",
       "      <td>Ramicane</td>\n",
       "      <td>Male</td>\n",
       "      <td>21</td>\n",
       "      <td>16</td>\n",
       "      <td>0</td>\n",
       "      <td>45.000000</td>\n",
       "      <td>0</td>\n",
       "    </tr>\n",
       "    <tr>\n",
       "      <td>1</td>\n",
       "      <td>k403</td>\n",
       "      <td>Ramicane</td>\n",
       "      <td>Male</td>\n",
       "      <td>21</td>\n",
       "      <td>16</td>\n",
       "      <td>5</td>\n",
       "      <td>38.825898</td>\n",
       "      <td>0</td>\n",
       "    </tr>\n",
       "    <tr>\n",
       "      <td>2</td>\n",
       "      <td>k403</td>\n",
       "      <td>Ramicane</td>\n",
       "      <td>Male</td>\n",
       "      <td>21</td>\n",
       "      <td>16</td>\n",
       "      <td>10</td>\n",
       "      <td>35.014271</td>\n",
       "      <td>1</td>\n",
       "    </tr>\n",
       "    <tr>\n",
       "      <td>3</td>\n",
       "      <td>k403</td>\n",
       "      <td>Ramicane</td>\n",
       "      <td>Male</td>\n",
       "      <td>21</td>\n",
       "      <td>16</td>\n",
       "      <td>15</td>\n",
       "      <td>34.223992</td>\n",
       "      <td>1</td>\n",
       "    </tr>\n",
       "    <tr>\n",
       "      <td>4</td>\n",
       "      <td>k403</td>\n",
       "      <td>Ramicane</td>\n",
       "      <td>Male</td>\n",
       "      <td>21</td>\n",
       "      <td>16</td>\n",
       "      <td>20</td>\n",
       "      <td>32.997729</td>\n",
       "      <td>1</td>\n",
       "    </tr>\n",
       "  </tbody>\n",
       "</table>\n",
       "</div>"
      ],
      "text/plain": [
       "  Mouse ID Drug Regimen   Sex  Age_months  Weight (g)  Timepoint  \\\n",
       "0     k403     Ramicane  Male          21          16          0   \n",
       "1     k403     Ramicane  Male          21          16          5   \n",
       "2     k403     Ramicane  Male          21          16         10   \n",
       "3     k403     Ramicane  Male          21          16         15   \n",
       "4     k403     Ramicane  Male          21          16         20   \n",
       "\n",
       "   Tumor Volume (mm3)  Metastatic Sites  \n",
       "0           45.000000                 0  \n",
       "1           38.825898                 0  \n",
       "2           35.014271                 1  \n",
       "3           34.223992                 1  \n",
       "4           32.997729                 1  "
      ]
     },
     "execution_count": 31,
     "metadata": {},
     "output_type": "execute_result"
    }
   ],
   "source": [
    "# Dependencies and Setup\n",
    "import matplotlib.pyplot as plt\n",
    "import pandas as pd\n",
    "import scipy.stats as st\n",
    "import numpy as np \n",
    "\n",
    "# Study data files\n",
    "mouse_metadata_path = \"data/Mouse_metadata.csv\"\n",
    "study_results_path = \"data/Study_results.csv\"\n",
    "\n",
    "# Read the mouse data and the study results\n",
    "mouse_metadata = pd.read_csv(mouse_metadata_path)\n",
    "study_results = pd.read_csv(study_results_path)\n",
    "\n",
    "# Combine the data into a single dataset\n",
    "mouse_data_complete = pd.merge(mouse_metadata, study_results, how = 'left', on = 'Mouse ID')\n",
    "\n",
    "#show data table\n",
    "mouse_data_complete.head()"
   ]
  },
  {
   "cell_type": "code",
   "execution_count": 32,
   "metadata": {},
   "outputs": [
    {
     "data": {
      "text/plain": [
       "249"
      ]
     },
     "execution_count": 32,
     "metadata": {},
     "output_type": "execute_result"
    }
   ],
   "source": [
    "# Checking the number of mice in the DataFrame.\n",
    "mouse_data_complete['Mouse ID'].nunique()"
   ]
  },
  {
   "cell_type": "code",
   "execution_count": 33,
   "metadata": {},
   "outputs": [
    {
     "data": {
      "text/html": [
       "<div>\n",
       "<style scoped>\n",
       "    .dataframe tbody tr th:only-of-type {\n",
       "        vertical-align: middle;\n",
       "    }\n",
       "\n",
       "    .dataframe tbody tr th {\n",
       "        vertical-align: top;\n",
       "    }\n",
       "\n",
       "    .dataframe thead th {\n",
       "        text-align: right;\n",
       "    }\n",
       "</style>\n",
       "<table border=\"1\" class=\"dataframe\">\n",
       "  <thead>\n",
       "    <tr style=\"text-align: right;\">\n",
       "      <th></th>\n",
       "      <th>Mouse ID</th>\n",
       "      <th>Drug Regimen</th>\n",
       "      <th>Sex</th>\n",
       "      <th>Age_months</th>\n",
       "      <th>Weight (g)</th>\n",
       "      <th>Timepoint</th>\n",
       "      <th>Tumor Volume (mm3)</th>\n",
       "      <th>Metastatic Sites</th>\n",
       "    </tr>\n",
       "  </thead>\n",
       "  <tbody>\n",
       "    <tr>\n",
       "      <td>909</td>\n",
       "      <td>g989</td>\n",
       "      <td>Propriva</td>\n",
       "      <td>Female</td>\n",
       "      <td>21</td>\n",
       "      <td>26</td>\n",
       "      <td>0</td>\n",
       "      <td>45.000000</td>\n",
       "      <td>0</td>\n",
       "    </tr>\n",
       "    <tr>\n",
       "      <td>911</td>\n",
       "      <td>g989</td>\n",
       "      <td>Propriva</td>\n",
       "      <td>Female</td>\n",
       "      <td>21</td>\n",
       "      <td>26</td>\n",
       "      <td>5</td>\n",
       "      <td>47.570392</td>\n",
       "      <td>0</td>\n",
       "    </tr>\n",
       "    <tr>\n",
       "      <td>913</td>\n",
       "      <td>g989</td>\n",
       "      <td>Propriva</td>\n",
       "      <td>Female</td>\n",
       "      <td>21</td>\n",
       "      <td>26</td>\n",
       "      <td>10</td>\n",
       "      <td>49.880528</td>\n",
       "      <td>0</td>\n",
       "    </tr>\n",
       "    <tr>\n",
       "      <td>915</td>\n",
       "      <td>g989</td>\n",
       "      <td>Propriva</td>\n",
       "      <td>Female</td>\n",
       "      <td>21</td>\n",
       "      <td>26</td>\n",
       "      <td>15</td>\n",
       "      <td>53.442020</td>\n",
       "      <td>0</td>\n",
       "    </tr>\n",
       "    <tr>\n",
       "      <td>917</td>\n",
       "      <td>g989</td>\n",
       "      <td>Propriva</td>\n",
       "      <td>Female</td>\n",
       "      <td>21</td>\n",
       "      <td>26</td>\n",
       "      <td>20</td>\n",
       "      <td>54.657650</td>\n",
       "      <td>1</td>\n",
       "    </tr>\n",
       "  </tbody>\n",
       "</table>\n",
       "</div>"
      ],
      "text/plain": [
       "    Mouse ID Drug Regimen     Sex  Age_months  Weight (g)  Timepoint  \\\n",
       "909     g989     Propriva  Female          21          26          0   \n",
       "911     g989     Propriva  Female          21          26          5   \n",
       "913     g989     Propriva  Female          21          26         10   \n",
       "915     g989     Propriva  Female          21          26         15   \n",
       "917     g989     Propriva  Female          21          26         20   \n",
       "\n",
       "     Tumor Volume (mm3)  Metastatic Sites  \n",
       "909           45.000000                 0  \n",
       "911           47.570392                 0  \n",
       "913           49.880528                 0  \n",
       "915           53.442020                 0  \n",
       "917           54.657650                 1  "
      ]
     },
     "execution_count": 33,
     "metadata": {},
     "output_type": "execute_result"
    }
   ],
   "source": [
    "# Getting the duplicate mice by ID number that shows up for Mouse ID and Timepoint\n",
    "duplicate_df = mouse_data_complete[mouse_data_complete.duplicated(['Mouse ID', 'Timepoint'])]\n",
    "duplicate_df"
   ]
  },
  {
   "cell_type": "code",
   "execution_count": 34,
   "metadata": {},
   "outputs": [],
   "source": [
    "# Optional: Get all the data for the duplicate mouse ID. "
   ]
  },
  {
   "cell_type": "code",
   "execution_count": 35,
   "metadata": {},
   "outputs": [],
   "source": [
    "# Create a clean DataFrame by dropping the duplicate mouse by its ID.\n",
    "cleaned_mouse_df = mouse_data_complete.drop_duplicates(['Mouse ID', 'Timepoint'], keep = 'last')\n",
    "#clean_mouse_df = cleaned_mouse_df[cleaned_mouse_df.duplicated(['Mouse ID', 'Timepoint'])]"
   ]
  },
  {
   "cell_type": "code",
   "execution_count": 36,
   "metadata": {},
   "outputs": [
    {
     "data": {
      "text/plain": [
       "249"
      ]
     },
     "execution_count": 36,
     "metadata": {},
     "output_type": "execute_result"
    }
   ],
   "source": [
    "# Checking the number of mice in the clean DataFrame.\n",
    "cleaned_mouse_df['Mouse ID'].nunique()\n"
   ]
  },
  {
   "cell_type": "markdown",
   "metadata": {},
   "source": [
    "## Summary Statistics"
   ]
  },
  {
   "cell_type": "code",
   "execution_count": 37,
   "metadata": {},
   "outputs": [],
   "source": [
    "# Generate a summary statistics table of mean, median, variance, standard deviation, and SEM of the tumor volume for each regimen\n",
    "\n",
    "# This method is the most straighforward, creating multiple series and putting them all together at the end.\n",
    "mean = cleaned_mouse_df.groupby('Drug Regimen').mean()['Tumor Volume (mm3)']\n",
    "median = cleaned_mouse_df.groupby('Drug Regimen').median()['Tumor Volume (mm3)']\n",
    "variance = cleaned_mouse_df.groupby('Drug Regimen').var()['Tumor Volume (mm3)']\n",
    "standard_dev = cleaned_mouse_df.groupby('Drug Regimen').std()['Tumor Volume (mm3)']\n",
    "sems = cleaned_mouse_df.groupby('Drug Regimen').sem()['Tumor Volume (mm3)']\n",
    "\n"
   ]
  },
  {
   "cell_type": "code",
   "execution_count": 38,
   "metadata": {
    "scrolled": true
   },
   "outputs": [
    {
     "data": {
      "text/html": [
       "<div>\n",
       "<style scoped>\n",
       "    .dataframe tbody tr th:only-of-type {\n",
       "        vertical-align: middle;\n",
       "    }\n",
       "\n",
       "    .dataframe tbody tr th {\n",
       "        vertical-align: top;\n",
       "    }\n",
       "\n",
       "    .dataframe thead th {\n",
       "        text-align: right;\n",
       "    }\n",
       "</style>\n",
       "<table border=\"1\" class=\"dataframe\">\n",
       "  <thead>\n",
       "    <tr style=\"text-align: right;\">\n",
       "      <th></th>\n",
       "      <th>Mean</th>\n",
       "      <th>Median</th>\n",
       "      <th>Variance</th>\n",
       "      <th>Standard Deviation</th>\n",
       "      <th>SEM</th>\n",
       "    </tr>\n",
       "    <tr>\n",
       "      <th>Drug Regimen</th>\n",
       "      <th></th>\n",
       "      <th></th>\n",
       "      <th></th>\n",
       "      <th></th>\n",
       "      <th></th>\n",
       "    </tr>\n",
       "  </thead>\n",
       "  <tbody>\n",
       "    <tr>\n",
       "      <td>Capomulin</td>\n",
       "      <td>40.675741</td>\n",
       "      <td>41.557809</td>\n",
       "      <td>24.947764</td>\n",
       "      <td>4.994774</td>\n",
       "      <td>0.329346</td>\n",
       "    </tr>\n",
       "    <tr>\n",
       "      <td>Ceftamin</td>\n",
       "      <td>52.591172</td>\n",
       "      <td>51.776157</td>\n",
       "      <td>39.290177</td>\n",
       "      <td>6.268188</td>\n",
       "      <td>0.469821</td>\n",
       "    </tr>\n",
       "    <tr>\n",
       "      <td>Infubinol</td>\n",
       "      <td>52.884795</td>\n",
       "      <td>51.820584</td>\n",
       "      <td>43.128684</td>\n",
       "      <td>6.567243</td>\n",
       "      <td>0.492236</td>\n",
       "    </tr>\n",
       "    <tr>\n",
       "      <td>Ketapril</td>\n",
       "      <td>55.235638</td>\n",
       "      <td>53.698743</td>\n",
       "      <td>68.553577</td>\n",
       "      <td>8.279709</td>\n",
       "      <td>0.603860</td>\n",
       "    </tr>\n",
       "    <tr>\n",
       "      <td>Naftisol</td>\n",
       "      <td>54.331565</td>\n",
       "      <td>52.509285</td>\n",
       "      <td>66.173479</td>\n",
       "      <td>8.134708</td>\n",
       "      <td>0.596466</td>\n",
       "    </tr>\n",
       "    <tr>\n",
       "      <td>Placebo</td>\n",
       "      <td>54.033581</td>\n",
       "      <td>52.288934</td>\n",
       "      <td>61.168083</td>\n",
       "      <td>7.821003</td>\n",
       "      <td>0.581331</td>\n",
       "    </tr>\n",
       "    <tr>\n",
       "      <td>Propriva</td>\n",
       "      <td>52.382993</td>\n",
       "      <td>50.783528</td>\n",
       "      <td>43.220205</td>\n",
       "      <td>6.574208</td>\n",
       "      <td>0.526358</td>\n",
       "    </tr>\n",
       "    <tr>\n",
       "      <td>Ramicane</td>\n",
       "      <td>40.216745</td>\n",
       "      <td>40.673236</td>\n",
       "      <td>23.486704</td>\n",
       "      <td>4.846308</td>\n",
       "      <td>0.320955</td>\n",
       "    </tr>\n",
       "    <tr>\n",
       "      <td>Stelasyn</td>\n",
       "      <td>54.233149</td>\n",
       "      <td>52.431737</td>\n",
       "      <td>59.450562</td>\n",
       "      <td>7.710419</td>\n",
       "      <td>0.573111</td>\n",
       "    </tr>\n",
       "    <tr>\n",
       "      <td>Zoniferol</td>\n",
       "      <td>53.236507</td>\n",
       "      <td>51.818479</td>\n",
       "      <td>48.533355</td>\n",
       "      <td>6.966589</td>\n",
       "      <td>0.516398</td>\n",
       "    </tr>\n",
       "  </tbody>\n",
       "</table>\n",
       "</div>"
      ],
      "text/plain": [
       "                   Mean     Median   Variance  Standard Deviation       SEM\n",
       "Drug Regimen                                                               \n",
       "Capomulin     40.675741  41.557809  24.947764            4.994774  0.329346\n",
       "Ceftamin      52.591172  51.776157  39.290177            6.268188  0.469821\n",
       "Infubinol     52.884795  51.820584  43.128684            6.567243  0.492236\n",
       "Ketapril      55.235638  53.698743  68.553577            8.279709  0.603860\n",
       "Naftisol      54.331565  52.509285  66.173479            8.134708  0.596466\n",
       "Placebo       54.033581  52.288934  61.168083            7.821003  0.581331\n",
       "Propriva      52.382993  50.783528  43.220205            6.574208  0.526358\n",
       "Ramicane      40.216745  40.673236  23.486704            4.846308  0.320955\n",
       "Stelasyn      54.233149  52.431737  59.450562            7.710419  0.573111\n",
       "Zoniferol     53.236507  51.818479  48.533355            6.966589  0.516398"
      ]
     },
     "execution_count": 38,
     "metadata": {},
     "output_type": "execute_result"
    }
   ],
   "source": [
    "# Generate a summary statistics table of mean, median, variance, standard deviation, and Sem of the tumor volume for each regimen\n",
    "summary_stats_df = pd.DataFrame({'Mean':mean,\n",
    "             'Median':median,\n",
    "             'Variance':variance,\n",
    "             'Standard Deviation':standard_dev,\n",
    "             'SEM':sems})\n",
    "summary_stats_df"
   ]
  },
  {
   "cell_type": "markdown",
   "metadata": {},
   "source": [
    "## Bar Plots"
   ]
  },
  {
   "cell_type": "code",
   "execution_count": 39,
   "metadata": {
    "scrolled": true
   },
   "outputs": [
    {
     "data": {
      "image/png": "[encoded data removed]",
      "text/plain": [
       "<Figure size 432x288 with 1 Axes>"
      ]
     },
     "metadata": {
      "needs_background": "light"
     },
     "output_type": "display_data"
    }
   ],
   "source": [
    "# Generate a bar plot showing the number of mice per time point for each treatment throughout the course of the study using pandas. \n",
    "counts = cleaned_mouse_df['Drug Regimen'].value_counts()\n",
    "\n",
    "#plot bar using pandas DataFrfame.plot\n",
    "counts.plot(kind='bar')\n",
    "plt.xlabel('Drug Regimen')\n",
    "plt.ylabel('Number of Time Points')\n",
    "plt.title('Drug Regimen')\n",
    "plt.show()\n"
   ]
  },
  {
   "cell_type": "code",
   "execution_count": 40,
   "metadata": {},
   "outputs": [
    {
     "data": {
      "image/png": "[encoded data removed]",
      "text/plain": [
       "<Figure size 432x288 with 1 Axes>"
      ]
     },
     "metadata": {
      "needs_background": "light"
     },
     "output_type": "display_data"
    }
   ],
   "source": [
    "# Generate a bar plot showing the number of mice per time point for each treatment throughout the course of the study using pyplot.\n",
    "\n",
    "#plot bar using pyplot \n",
    "\n",
    "counts = cleaned_mouse_df['Drug Regimen'].value_counts()\n",
    "\n",
    "plt.bar(counts.index,counts.values)\n",
    "plt.xticks(rotation=90)\n",
    "\n",
    "plt.xlabel('Drug Regimen')\n",
    "plt.ylabel('Number of Time Points')\n",
    "plt.title('Drug Regimen')\n",
    "plt.show()\n"
   ]
  },
  {
   "cell_type": "markdown",
   "metadata": {},
   "source": [
    "## Pie Plots"
   ]
  },
  {
   "cell_type": "code",
   "execution_count": 41,
   "metadata": {},
   "outputs": [
    {
     "data": {
      "text/plain": [
       "<matplotlib.axes._subplots.AxesSubplot at 0x1a1b7b7610>"
      ]
     },
     "execution_count": 41,
     "metadata": {},
     "output_type": "execute_result"
    },
    {
     "data": {
      "image/png": "[encoded data removed]",
      "text/plain": [
       "<Figure size 432x288 with 1 Axes>"
      ]
     },
     "metadata": {},
     "output_type": "display_data"
    }
   ],
   "source": [
    "# Generate a pie plot showing the distribution of female versus male mice using pandas\n",
    "counts = mouse_data_complete.Sex.value_counts()\n",
    "counts.plot(kind='pie',autopct = '%1.1f%%')\n"
   ]
  },
  {
   "cell_type": "code",
   "execution_count": 42,
   "metadata": {},
   "outputs": [
    {
     "data": {
      "text/plain": [
       "Text(0, 0.5, 'Sex')"
      ]
     },
     "execution_count": 42,
     "metadata": {},
     "output_type": "execute_result"
    },
    {
     "data": {
      "image/png": "[encoded data removed]",
      "text/plain": [
       "<Figure size 432x288 with 1 Axes>"
      ]
     },
     "metadata": {},
     "output_type": "display_data"
    }
   ],
   "source": [
    "# Generate a pie plot showing the distribution of female versus male mice using pyplot\n",
    "counts = mouse_data_complete.Sex.value_counts()\n",
    "labels = ['Male', 'Female']\n",
    "plt.pie(counts.values,labels = counts.index, autopct = '%1.1f%%')\n",
    "plt.ylabel('Sex')"
   ]
  },
  {
   "cell_type": "markdown",
   "metadata": {},
   "source": [
    "## Quartiles, Outliers and Boxplots"
   ]
  },
  {
   "cell_type": "code",
   "execution_count": 44,
   "metadata": {},
   "outputs": [
    {
     "data": {
      "text/html": [
       "<div>\n",
       "<style scoped>\n",
       "    .dataframe tbody tr th:only-of-type {\n",
       "        vertical-align: middle;\n",
       "    }\n",
       "\n",
       "    .dataframe tbody tr th {\n",
       "        vertical-align: top;\n",
       "    }\n",
       "\n",
       "    .dataframe thead th {\n",
       "        text-align: right;\n",
       "    }\n",
       "</style>\n",
       "<table border=\"1\" class=\"dataframe\">\n",
       "  <thead>\n",
       "    <tr style=\"text-align: right;\">\n",
       "      <th></th>\n",
       "      <th>Mouse ID</th>\n",
       "      <th>Timepoint</th>\n",
       "      <th>Drug Regimen</th>\n",
       "      <th>Sex</th>\n",
       "      <th>Age_months</th>\n",
       "      <th>Weight (g)</th>\n",
       "      <th>Tumor Volume (mm3)</th>\n",
       "      <th>Metastatic Sites</th>\n",
       "    </tr>\n",
       "  </thead>\n",
       "  <tbody>\n",
       "    <tr>\n",
       "      <td>0</td>\n",
       "      <td>a203</td>\n",
       "      <td>45</td>\n",
       "      <td>Infubinol</td>\n",
       "      <td>Female</td>\n",
       "      <td>20</td>\n",
       "      <td>23</td>\n",
       "      <td>67.973419</td>\n",
       "      <td>2</td>\n",
       "    </tr>\n",
       "    <tr>\n",
       "      <td>1</td>\n",
       "      <td>a251</td>\n",
       "      <td>45</td>\n",
       "      <td>Infubinol</td>\n",
       "      <td>Female</td>\n",
       "      <td>21</td>\n",
       "      <td>25</td>\n",
       "      <td>65.525743</td>\n",
       "      <td>1</td>\n",
       "    </tr>\n",
       "    <tr>\n",
       "      <td>2</td>\n",
       "      <td>a262</td>\n",
       "      <td>45</td>\n",
       "      <td>Placebo</td>\n",
       "      <td>Female</td>\n",
       "      <td>17</td>\n",
       "      <td>29</td>\n",
       "      <td>70.717621</td>\n",
       "      <td>4</td>\n",
       "    </tr>\n",
       "    <tr>\n",
       "      <td>3</td>\n",
       "      <td>a275</td>\n",
       "      <td>45</td>\n",
       "      <td>Ceftamin</td>\n",
       "      <td>Female</td>\n",
       "      <td>20</td>\n",
       "      <td>28</td>\n",
       "      <td>62.999356</td>\n",
       "      <td>3</td>\n",
       "    </tr>\n",
       "    <tr>\n",
       "      <td>4</td>\n",
       "      <td>a366</td>\n",
       "      <td>30</td>\n",
       "      <td>Stelasyn</td>\n",
       "      <td>Female</td>\n",
       "      <td>16</td>\n",
       "      <td>29</td>\n",
       "      <td>63.440686</td>\n",
       "      <td>1</td>\n",
       "    </tr>\n",
       "  </tbody>\n",
       "</table>\n",
       "</div>"
      ],
      "text/plain": [
       "  Mouse ID  Timepoint Drug Regimen     Sex  Age_months  Weight (g)  \\\n",
       "0     a203         45    Infubinol  Female          20          23   \n",
       "1     a251         45    Infubinol  Female          21          25   \n",
       "2     a262         45      Placebo  Female          17          29   \n",
       "3     a275         45     Ceftamin  Female          20          28   \n",
       "4     a366         30     Stelasyn  Female          16          29   \n",
       "\n",
       "   Tumor Volume (mm3)  Metastatic Sites  \n",
       "0           67.973419                 2  \n",
       "1           65.525743                 1  \n",
       "2           70.717621                 4  \n",
       "3           62.999356                 3  \n",
       "4           63.440686                 1  "
      ]
     },
     "execution_count": 44,
     "metadata": {},
     "output_type": "execute_result"
    }
   ],
   "source": [
    "# Calculate the final tumor volume of each mouse across four of the most promising treatment regimens. Calculate the IQR and quantitatively determine if there are any potential outliers. \n",
    "#maximum point of each mouse\n",
    "max_tumor_volume = cleaned_mouse_df.groupby(['Mouse ID']).max()\n",
    "#set Mouse ID as index\n",
    "max_tumor_volume = max_tumor_volume.reset_index()\n",
    "#merge the new tumor df with the cleaned df\n",
    "tumor_merged_data = max_tumor_volume[['Mouse ID','Timepoint']].merge(cleaned_mouse_df,on = ['Mouse ID','Timepoint'])\n",
    "tumor_merged_data.head()\n",
    "\n"
   ]
  },
  {
   "cell_type": "code",
   "execution_count": 45,
   "metadata": {
    "scrolled": true
   },
   "outputs": [
    {
     "name": "stdout",
     "output_type": "stream",
     "text": [
      "the lower quartile of ramicane is: 31.56046955\n",
      "the upper quartile of ramicane is: 40.65900627\n",
      "the interquartile range of ramicane is: 9.098536719999998\n",
      "values below 17.912664470000003 could be outliers.\n",
      "values above 54.30681135 could be outliers.\n"
     ]
    }
   ],
   "source": [
    "#check or get the four most promising treatment regimen from previous bar graphs\n",
    "\n",
    "#calculating the IQR, outliers and quatiles for ramicane\n",
    "\n",
    "ramicane = tumor_merged_data.loc[tumor_merged_data['Drug Regimen'] == 'Ramicane']['Tumor Volume (mm3)']\n",
    "\n",
    "ramicane_quartiles = ramicane.quantile([.25,.5,.75])\n",
    "ramicane_q1 = ramicane_quartiles[0.25]\n",
    "ramicane_q3 = ramicane_quartiles[0.75]\n",
    "ramicane_iqr = ramicane_q3 - ramicane_q1\n",
    "ramicane_lower_bound = ramicane_q1 -(1.5*ramicane_iqr)\n",
    "ramicane_upper_bound = ramicane_q3 +(1.5*ramicane_iqr)\n",
    "print(f'the lower quartile of ramicane is: {ramicane_q1}')\n",
    "print(f'the upper quartile of ramicane is: {ramicane_q3}')\n",
    "print(f'the interquartile range of ramicane is: {ramicane_iqr}')\n",
    "print(f'values below {ramicane_lower_bound} could be outliers.')\n",
    "print(f'values above {ramicane_upper_bound} could be outliers.')\n",
    "\n"
   ]
  },
  {
   "cell_type": "code",
   "execution_count": 46,
   "metadata": {},
   "outputs": [
    {
     "name": "stdout",
     "output_type": "stream",
     "text": [
      "the lower quartile of Ceftamin is: 48.72207785\n",
      "the upper quartile of Ceftamin is: 64.29983003\n",
      "the interquartile range of Ceftamin is: 15.577752179999997\n",
      "values below 25.355449580000002 could be outliers.\n",
      "values above 87.66645829999999 could be outliers.\n"
     ]
    }
   ],
   "source": [
    "#calculating the IQR, outliers and quatiles for caftamin\n",
    "\n",
    "Ceftamin = tumor_merged_data.loc[tumor_merged_data['Drug Regimen'] == 'Ceftamin']['Tumor Volume (mm3)']\n",
    "\n",
    "Ceftamin_quartiles = Ceftamin.quantile([.25,.5,.75])\n",
    "Ceftamin_q1 = Ceftamin_quartiles[0.25]\n",
    "Ceftamin_q3 = Ceftamin_quartiles[0.75]\n",
    "Ceftamin_iqr = Ceftamin_q3 - Ceftamin_q1\n",
    "Ceftamin_lower_bound = Ceftamin_q1 -(1.5*Ceftamin_iqr)\n",
    "Ceftamin_upper_bound = Ceftamin_q3 +(1.5*Ceftamin_iqr)\n",
    "print(f'the lower quartile of Ceftamin is: {Ceftamin_q1}')\n",
    "print(f'the upper quartile of Ceftamin is: {Ceftamin_q3}')\n",
    "print(f'the interquartile range of Ceftamin is: {Ceftamin_iqr}')\n",
    "print(f'values below {Ceftamin_lower_bound} could be outliers.')\n",
    "print(f'values above {Ceftamin_upper_bound} could be outliers.')\n"
   ]
  },
  {
   "cell_type": "code",
   "execution_count": 47,
   "metadata": {},
   "outputs": [
    {
     "name": "stdout",
     "output_type": "stream",
     "text": [
      "the lower quartile of Infubinol is: 54.04860769\n",
      "the upper quartile of Infubinol is: 65.52574285\n",
      "the interquartile range of Infubinol is: 11.477135160000003\n",
      "values below 36.83290494999999 could be outliers.\n",
      "values above 82.74144559000001 could be outliers.\n"
     ]
    }
   ],
   "source": [
    "#calculating the IQR, outliers and quatiles for Infubinol\n",
    "\n",
    "Infubinol = tumor_merged_data.loc[tumor_merged_data['Drug Regimen'] == 'Infubinol']['Tumor Volume (mm3)']\n",
    "\n",
    "Infubinol_quartiles = Infubinol.quantile([.25,.5,.75])\n",
    "Infubinol_q1 = Infubinol_quartiles[0.25]\n",
    "Infubinol_q3 = Infubinol_quartiles[0.75]\n",
    "Infubinol_iqr = Infubinol_q3 - Infubinol_q1\n",
    "Infubinol_lower_bound = Infubinol_q1 -(1.5*Infubinol_iqr)\n",
    "Infubinol_upper_bound = Infubinol_q3 +(1.5*Infubinol_iqr)\n",
    "print(f'the lower quartile of Infubinol is: {Infubinol_q1}')\n",
    "print(f'the upper quartile of Infubinol is: {Infubinol_q3}')\n",
    "print(f'the interquartile range of Infubinol is: {Infubinol_iqr}')\n",
    "print(f'values below {Infubinol_lower_bound} could be outliers.')\n",
    "print(f'values above {Infubinol_upper_bound} could be outliers.')\n"
   ]
  },
  {
   "cell_type": "code",
   "execution_count": 48,
   "metadata": {},
   "outputs": [
    {
     "name": "stdout",
     "output_type": "stream",
     "text": [
      "the lower quartile of capomulin is: 32.37735684\n",
      "the upper quartile of capomulin is: 40.1592203\n",
      "the interquartile range of capomulin is: 7.781863460000004\n",
      "values below 20.70456164999999 could be outliers.\n",
      "values above 51.83201549 could be outliers.\n"
     ]
    }
   ],
   "source": [
    "#calculating the IQR, outliers and quatiles for capomulin\n",
    "\n",
    "capomulin = tumor_merged_data.loc[tumor_merged_data['Drug Regimen'] == 'Capomulin']['Tumor Volume (mm3)']\n",
    "\n",
    "capomulin_quartiles = capomulin.quantile([.25,.5,.75])\n",
    "capomulin_quartiles = capomulin.quantile([.25,.5,.75])\n",
    "capomulin_q1 = capomulin_quartiles[0.25]\n",
    "capomulin_q3 = capomulin_quartiles[0.75]\n",
    "capomulin_iqr = capomulin_q3 - capomulin_q1\n",
    "capomulin_lower_bound = capomulin_q1 -(1.5*capomulin_iqr)\n",
    "capomulin_upper_bound = capomulin_q3 +(1.5*capomulin_iqr)\n",
    "print(f'the lower quartile of capomulin is: {capomulin_q1}')\n",
    "print(f'the upper quartile of capomulin is: {capomulin_q3}')\n",
    "print(f'the interquartile range of capomulin is: {capomulin_iqr}')\n",
    "print(f'values below {capomulin_lower_bound} could be outliers.')\n",
    "print(f'values above {capomulin_upper_bound} could be outliers.')\n"
   ]
  },
  {
   "cell_type": "code",
   "execution_count": null,
   "metadata": {},
   "outputs": [],
   "source": []
  },
  {
   "cell_type": "code",
   "execution_count": 49,
   "metadata": {},
   "outputs": [
    {
     "data": {
      "image/png": "[encoded data removed]",
      "text/plain": [
       "<Figure size 576x432 with 1 Axes>"
      ]
     },
     "metadata": {
      "needs_background": "light"
     },
     "output_type": "display_data"
    }
   ],
   "source": [
    "# Generate a box plot of the final tumor volume of each mouse across four regimens of interest\n",
    "fig, axl = plt.subplots(figsize=(8,6))\n",
    "\n",
    "#set y_axis label\n",
    "axl.set_ylabel('Final Tumor Volume (mm3)')\n",
    "\n",
    "plt.boxplot([ramicane,Ceftamin,Infubinol,capomulin],labels=['ramicane','Ceftamin','Infubinol','capomulin'])\n",
    "plt.show()"
   ]
  },
  {
   "cell_type": "markdown",
   "metadata": {},
   "source": [
    "## Line and Scatter Plots"
   ]
  },
  {
   "cell_type": "code",
   "execution_count": 68,
   "metadata": {
    "scrolled": true
   },
   "outputs": [
    {
     "data": {
      "image/png": "[encoded data removed]",
      "text/plain": [
       "<Figure size 432x288 with 1 Axes>"
      ]
     },
     "metadata": {
      "needs_background": "light"
     },
     "output_type": "display_data"
    }
   ],
   "source": [
    "# Generate a line plot of time point versus tumor volume for a mouse treated with Capomulin\n",
    "\n",
    "#using mouse ID 1509\n",
    "#Capomulin_plot = cleaned_mouse_df.loc[cleaned_mouse_df['Drug Regimen'] == 'capomulin']\n",
    "mouse_1509 =tumor_merged_data[tumor_merged_data['Mouse ID'] =='1509']\n",
    "\n",
    "fig, axl = plt.subplots(figsize=(6,4))\n",
    "plt.plot(mouse_1509['Timepoint'], mouse_1509['Tumor Volume (mm3)'])\n",
    "axl.set_ylabel('Tumor Volume (mm3)')\n",
    "axl.set_xlabel('Timepoint (days)')\n",
    "axl.set_title('Capomulin treament of mouse 1509')\n",
    "plt.show()\n",
    "\n"
   ]
  },
  {
   "cell_type": "code",
   "execution_count": 16,
   "metadata": {},
   "outputs": [],
   "source": [
    "# Generate a scatter plot of mouse weight versus average tumor volume for the Capomulin regimen\n",
    "\n"
   ]
  },
  {
   "cell_type": "markdown",
   "metadata": {},
   "source": [
    "## Correlation and Regression"
   ]
  },
  {
   "cell_type": "code",
   "execution_count": 1,
   "metadata": {},
   "outputs": [],
   "source": [
    "# Calculate the correlation coefficient and linear regression model \n",
    "# for mouse weight and average tumor volume for the Capomulin regimen\n"
   ]
  },
  {
   "cell_type": "code",
   "execution_count": null,
   "metadata": {},
   "outputs": [],
   "source": []
  }
 ],
 "metadata": {
  "anaconda-cloud": {},
  "kernelspec": {
   "display_name": "Python 3",
   "language": "python",
   "name": "python3"
  },
  "language_info": {
   "codemirror_mode": {
    "name": "ipython",
    "version": 3
   },
   "file_extension": ".py",
   "mimetype": "text/x-python",
   "name": "python",
   "nbconvert_exporter": "python",
   "pygments_lexer": "ipython3",
   "version": "3.7.4"
  }
 },
 "nbformat": 4,
 "nbformat_minor": 2
}
